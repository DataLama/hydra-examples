{
 "cells": [
  {
   "cell_type": "markdown",
   "id": "c4df3877-9279-4e53-a37e-a12543bea465",
   "metadata": {},
   "source": [
    "# Hydra를 활용하여 hierarchical configuration 관리하기"
   ]
  },
  {
   "cell_type": "markdown",
   "id": "3f44cf21-1fb2-4e52-9e69-31e5c1b6c092",
   "metadata": {},
   "source": [
    "---"
   ]
  },
  {
   "cell_type": "markdown",
   "id": "d1fc89e8-e3fc-44ee-8557-6f1a4faabbec",
   "metadata": {},
   "source": [
    "## 시작하며\n",
    "- hydra는 fair (Facebook Ai Research)에서 공개한 configuration 관리를 위한 오픈소스 프로젝트임.\n",
    "    - omegaconf를 개발한 omry라는 사람이 크게 involve되어 있는 프로젝트.\n",
    "- hydra는 동적으로 hierarchical configuration을 관리할 수 있게하는 모듈이라는 점에서 큰 의미가 있음.\n",
    "- 하지만, CLI로 hydra를 사용할 경우, multi-run과 관련된 기능들이 hydra에 대한 사용이 약간 까다롭게함.\n",
    "    - working directory management, multi-run with DDP ...\n",
    "- 때문에 본 sample에서는 Hydra의 **hierarchical configuration** 기능만 사용할 수 있는 compose API를 중심으로 hydra를 사용할 것임.\n",
    "\n",
    "#### Compose API는 언제 사용하는가?\n",
    "- Inside a Jupyter notebook (Example)\n",
    "- Inside a unit test (Example)\n",
    "- In parts of your application that does not have access to the command line (Example).\n",
    "- To compose multiple configuration objects (Example with Ray).\n",
    "\n",
    "#### Compose API를 사용함으로써 hydra에서 사용하지 못하는 기능은 무엇인가?\n",
    "- Tab completion (솔직히 크게 필요 없음.)\n",
    "- Multirun, Working directory management (ray같은 다른 모듈에 맡기면 됨.)\n",
    "- Logging management and more (직접 구현해서 사용하거나 다른 모듈에 맡기면 됨.)\n",
    "\n",
    "> 나 같이 jupyter + vscode를 주로 사용하는 사람은 Compose API가 더 좋은 듯."
   ]
  },
  {
   "cell_type": "markdown",
   "id": "71596ebd-b86a-48cc-94f2-677b7f50bba5",
   "metadata": {},
   "source": [
    "---"
   ]
  },
  {
   "cell_type": "markdown",
   "id": "6455372f-016d-4e1a-9bda-368c697ec7b6",
   "metadata": {},
   "source": [
    "## Simple Configurations"
   ]
  },
  {
   "cell_type": "markdown",
   "id": "0679e230-e634-4f6a-9e00-76b7edc80304",
   "metadata": {},
   "source": [
    "```\n",
    ".\n",
    "├── __init__.py\n",
    "├── config.yaml\n",
    "├── cloud\n",
    "│   └── aws.yaml\n",
    "├── optimizer\n",
    "│   └── adamw.yaml\n",
    "├── scheduler\n",
    "│   └── cosine_schedule_with_warmup.yaml\n",
    "└── tokenizer\n",
    "    └── autotokenizer.yaml\n",
    "```"
   ]
  },
  {
   "cell_type": "markdown",
   "id": "376fa814-a9a0-4703-aeb7-02caa363e06d",
   "metadata": {},
   "source": [
    "---"
   ]
  },
  {
   "cell_type": "markdown",
   "id": "e4f87271-e317-46bf-8cd0-fe6db718ad67",
   "metadata": {},
   "source": [
    "### Load `conf/config.yaml` considering depths"
   ]
  },
  {
   "cell_type": "markdown",
   "id": "7a5fc6d2-e2e7-4491-9194-91206f90a3ab",
   "metadata": {},
   "source": [
    "- `@hydra.main()`은 Initialize + Compose API를 통해 대체가 가능함.\n",
    "- Initialization은 세가지 방식이 있으나, 여기서는 `initialize`를 사용함."
   ]
  },
  {
   "cell_type": "code",
   "execution_count": 3,
   "id": "b2e684bc-7984-4f9f-bac4-a18b169a541a",
   "metadata": {},
   "outputs": [],
   "source": [
    "from hydra import compose, initialize\n",
    "from omegaconf import OmegaConf, DictConfig"
   ]
  },
  {
   "cell_type": "code",
   "execution_count": 4,
   "id": "7cbff033-6804-49d6-bb25-94312fc32fc1",
   "metadata": {},
   "outputs": [
    {
     "name": "stdout",
     "output_type": "stream",
     "text": [
      "backbone:\n",
      "  pretrained_model_name_or_path: klue/roberta-base\n",
      "tokenizer:\n",
      "  _target_: transformers.AutoTokenizer.from_pretrained\n",
      "  pretrained_model_name_or_path: ${backbone.pretrained_model_name_or_path}\n",
      "  use_fast: true\n",
      "\n"
     ]
    }
   ],
   "source": [
    "with initialize(config_path=\"conf\"):\n",
    "    configs = compose(config_name=\"config\", overrides=[])\n",
    "    print(OmegaConf.to_yaml(configs))"
   ]
  },
  {
   "cell_type": "markdown",
   "id": "98e9dcd2-258f-4d10-9785-ce6ff7269b2b",
   "metadata": {},
   "source": [
    "#### global config에 대한 구조 설명\n",
    "- global config.yaml\n",
    "\n",
    "```yaml\n",
    "defaults:\n",
    "  - _self_\n",
    "  - tokenizer: autotokenizer\n",
    "backbone:\n",
    "  pretrained_model_name_or_path: \"klue/roberta-base\"\n",
    "```\n",
    "\n",
    "- defaults에 list 형태로 각 package에 대응하는 default yaml file을 지정할 수 있음.\n",
    "- _self_는 special 문자로 defaults 아래에 존재하는 configuration을 추가하여 override함.\n",
    "  - [_self_사용법](https://hydra.cc/docs/advanced/defaults_list/#composition-order)"
   ]
  },
  {
   "cell_type": "markdown",
   "id": "ad44feb6-cbff-4cb7-a58d-2a6c5954490c",
   "metadata": {},
   "source": [
    "- global(root)에 존재하는 config.yaml의 값을 tokenizer package에서 intepolation을 통해 사용이 가능함."
   ]
  },
  {
   "cell_type": "code",
   "execution_count": 10,
   "id": "8df66f93-b66f-4969-99cf-75a6c9069a88",
   "metadata": {},
   "outputs": [
    {
     "name": "stdout",
     "output_type": "stream",
     "text": [
      "klue/roberta-base\n"
     ]
    }
   ],
   "source": [
    "print(configs.tokenizer.pretrained_model_name_or_path)"
   ]
  },
  {
   "cell_type": "markdown",
   "id": "e9a5527f-07d7-4757-b2c1-dd897c9abffb",
   "metadata": {},
   "source": [
    "#### Instantiating objects\n",
    "- _target_을 활용하여 해당 패키지에서 정의한 configuration을 활용하여 객체를 instance화 할 수 있음.\n",
    "- https://hydra.cc/docs/advanced/instantiate_objects/overview/\n",
    "\n",
    "- 장점\n",
    "    - 추상화된 객체를 의도대로 잘 사용할 수 있게 캡슐화가 가능함.\n",
    "- 단점\n",
    "    - 추가 코드 개발이 어려움.\n",
    "    - 다른 객체에 의존적인 객체에 대한 instantiation이 어려움.\n",
    "        - 1.2부터는 _partial_이라는 기능을 통해 헷징하려고 함."
   ]
  },
  {
   "cell_type": "code",
   "execution_count": 11,
   "id": "e245a934-c348-425d-a900-1fec3f40a105",
   "metadata": {},
   "outputs": [],
   "source": [
    "from hydra.utils import instantiate\n",
    "\n",
    "tokenizer = instantiate(configs.tokenizer)"
   ]
  },
  {
   "cell_type": "code",
   "execution_count": 13,
   "id": "944c430a-9924-4c17-8cab-91e1d11e55d7",
   "metadata": {},
   "outputs": [
    {
     "data": {
      "text/plain": [
       "['토크', '##나이', '##저', '##를', '불러', '왔', '##어요', '.']"
      ]
     },
     "execution_count": 13,
     "metadata": {},
     "output_type": "execute_result"
    }
   ],
   "source": [
    "tokenizer.tokenize('토크나이저를 불러 왔어요.')"
   ]
  }
 ],
 "metadata": {
  "kernelspec": {
   "display_name": "Python 3 (ipykernel)",
   "language": "python",
   "name": "python3"
  },
  "language_info": {
   "codemirror_mode": {
    "name": "ipython",
    "version": 3
   },
   "file_extension": ".py",
   "mimetype": "text/x-python",
   "name": "python",
   "nbconvert_exporter": "python",
   "pygments_lexer": "ipython3",
   "version": "3.8.12"
  }
 },
 "nbformat": 4,
 "nbformat_minor": 5
}
